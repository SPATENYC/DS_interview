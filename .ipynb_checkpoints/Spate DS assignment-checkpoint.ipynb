{
 "cells": [
  {
   "cell_type": "markdown",
   "metadata": {},
   "source": [
    "# Spate Data Science Take-Home assignment\n",
    "\n",
    "December 2018\n",
    "\n",
    "You have access to Spate's beauty dataset containing the # of Google searches by Keywords up until Feb 2018. We want to explore this dataset in order to better understand the latest trends in Beauty. \n",
    "\n",
    "There are 3 questions related to this dataset - they are quite straighforward but I suggest you run some exploratory analysis first before jumping into trying to answer them.\n",
    "\n",
    "The goal is not take too much of your time, you shouldn't be spending more than a couple of hours on this. Keep your code clean, short and to the point in this notebook and attach a couple of sentences with your thoughts process (again we don't expect long answers).\n",
    "\n",
    "Feel free to reach out if you have any questions. "
   ]
  },
  {
   "cell_type": "code",
   "execution_count": 24,
   "metadata": {},
   "outputs": [
    {
     "data": {
      "text/html": [
       "<div>\n",
       "<style scoped>\n",
       "    .dataframe tbody tr th:only-of-type {\n",
       "        vertical-align: middle;\n",
       "    }\n",
       "\n",
       "    .dataframe tbody tr th {\n",
       "        vertical-align: top;\n",
       "    }\n",
       "\n",
       "    .dataframe thead th {\n",
       "        text-align: right;\n",
       "    }\n",
       "</style>\n",
       "<table border=\"1\" class=\"dataframe\">\n",
       "  <thead>\n",
       "    <tr style=\"text-align: right;\">\n",
       "      <th></th>\n",
       "      <th>Keyword</th>\n",
       "      <th>date</th>\n",
       "      <th>Volume</th>\n",
       "    </tr>\n",
       "  </thead>\n",
       "  <tbody>\n",
       "    <tr>\n",
       "      <th>0</th>\n",
       "      <td>selena gomez</td>\n",
       "      <td>2013-02-01</td>\n",
       "      <td>12.852665</td>\n",
       "    </tr>\n",
       "    <tr>\n",
       "      <th>1</th>\n",
       "      <td>selena gomez</td>\n",
       "      <td>2013-03-01</td>\n",
       "      <td>100.000000</td>\n",
       "    </tr>\n",
       "    <tr>\n",
       "      <th>2</th>\n",
       "      <td>selena gomez</td>\n",
       "      <td>2013-04-01</td>\n",
       "      <td>75.548589</td>\n",
       "    </tr>\n",
       "    <tr>\n",
       "      <th>3</th>\n",
       "      <td>selena gomez</td>\n",
       "      <td>2013-05-01</td>\n",
       "      <td>80.564263</td>\n",
       "    </tr>\n",
       "    <tr>\n",
       "      <th>4</th>\n",
       "      <td>selena gomez</td>\n",
       "      <td>2013-06-01</td>\n",
       "      <td>97.492163</td>\n",
       "    </tr>\n",
       "  </tbody>\n",
       "</table>\n",
       "</div>"
      ],
      "text/plain": [
       "        Keyword        date      Volume\n",
       "0  selena gomez  2013-02-01   12.852665\n",
       "1  selena gomez  2013-03-01  100.000000\n",
       "2  selena gomez  2013-04-01   75.548589\n",
       "3  selena gomez  2013-05-01   80.564263\n",
       "4  selena gomez  2013-06-01   97.492163"
      ]
     },
     "execution_count": 24,
     "metadata": {},
     "output_type": "execute_result"
    }
   ],
   "source": [
    "# Load libraries\n",
    "import pandas as pd\n",
    "\n",
    "# Load the Beauty dataset\n",
    "df = pd.read_csv(\"https://www.dropbox.com/s/kmt6filgqb8apbd/KWs_google_trends.csv?dl=1\")\n",
    "df.head()"
   ]
  },
  {
   "cell_type": "markdown",
   "metadata": {},
   "source": [
    "# Exploratory analysis\n",
    "\n",
    "(your code here)"
   ]
  },
  {
   "cell_type": "markdown",
   "metadata": {},
   "source": [
    "# 1. Test a client hypothesis\n",
    "\n",
    "Curly Hair is a new trend, we want to understand better what could be the driver behind the trend. Write a script that captures all the occurences containing \"curly hair\". Display all the occurences. Summarize the time series for all curly hair combinations in a graph."
   ]
  },
  {
   "cell_type": "markdown",
   "metadata": {},
   "source": [
    "# 2. Driver behind the trend \n",
    "\n",
    "Make sure you are pulling the data for the following combination of keywords:\n",
    "\n",
    "* balayage curly hair\n",
    "* long curly hair\n",
    "* wild curly hair\n",
    "* low fade curly hair\n",
    "* fade curly hair\n",
    "* curly haired cat\n",
    "\n",
    "Our client is asking us about the drivers behind the growth of curly hair. Calculate the YoY growth for these terms. What could be an issue in using this metric? Any suggestion on to solve that"
   ]
  },
  {
   "cell_type": "code",
   "execution_count": 1,
   "metadata": {
    "collapsed": true
   },
   "outputs": [],
   "source": [
    "trends = ['balayage curly hair', 'long curly hair', 'wild curly hair', 'low fade curly hair', 'fade curly hair', 'curly haired cat']"
   ]
  },
  {
   "cell_type": "markdown",
   "metadata": {},
   "source": [
    "# 3. Product launch \n",
    "What other features could you extract from this dataset, that could be interesting for a beauty client looking to launch a curly hair product in 2019? What time of year would be the ideal time for them to target launching the products in?"
   ]
  }
 ],
 "metadata": {
  "kernelspec": {
   "display_name": "Python 2",
   "language": "python",
   "name": "python2"
  },
  "language_info": {
   "codemirror_mode": {
    "name": "ipython",
    "version": 2
   },
   "file_extension": ".py",
   "mimetype": "text/x-python",
   "name": "python",
   "nbconvert_exporter": "python",
   "pygments_lexer": "ipython2",
   "version": "2.7.14"
  }
 },
 "nbformat": 4,
 "nbformat_minor": 2
}
